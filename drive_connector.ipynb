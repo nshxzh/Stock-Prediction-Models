{
  "nbformat": 4,
  "nbformat_minor": 0,
  "metadata": {
    "colab": {
      "name": "Drive FUSE example.ipynb",
      "provenance": [],
      "collapsed_sections": [],
      "toc_visible": true,
      "include_colab_link": true
    },
    "kernelspec": {
      "name": "python3",
      "display_name": "Python 3"
    }
  },
  "cells": [
    {
      "cell_type": "markdown",
      "metadata": {
        "id": "view-in-github",
        "colab_type": "text"
      },
      "source": [
        "<a href=\"https://colab.research.google.com/github/nshxzh/Stock-Prediction-Models/blob/master/drive_connector.ipynb\" target=\"_parent\"><img src=\"https://colab.research.google.com/assets/colab-badge.svg\" alt=\"Open In Colab\"/></a>"
      ]
    },
    {
      "cell_type": "code",
      "metadata": {
        "id": "c99EvWo1s9-x",
        "colab": {
          "base_uri": "https://localhost:8080/",
          "height": 34
        },
        "outputId": "d6e195e9-523e-4601-f42b-eeaeb78ea343"
      },
      "source": [
        "# Load the Drive helper and mount\n",
        "from google.colab import drive\n",
        "\n",
        "# This will prompt for authorization.\n",
        "drive.mount('/content/drive')"
      ],
      "execution_count": null,
      "outputs": [
        {
          "output_type": "stream",
          "text": [
            "Mounted at /content/drive\n"
          ],
          "name": "stdout"
        }
      ]
    },
    {
      "cell_type": "code",
      "metadata": {
        "id": "H4SJ-tGNkOeY",
        "colab": {
          "base_uri": "https://localhost:8080/",
          "height": 170
        },
        "outputId": "b39b8e46-b45a-40f0-ce46-9316904e8d6e"
      },
      "source": [
        "# After executing the cell above, Drive\n",
        "# files will be present in \"/content/drive/My Drive\".\n",
        "!ls \"/content/drive/My Drive\""
      ],
      "execution_count": null,
      "outputs": [
        {
          "output_type": "stream",
          "text": [
            "07_structured_data.ipynb\t   Sample Excel file.xlsx\n",
            "BigQuery recipes\t\t   script.ipynb\n",
            "Colab Notebooks\t\t\t   TFGan tutorial in Colab.txt\n",
            "Copy of nima colab.ipynb\t   to_upload (1).ipynb\n",
            "created.txt\t\t\t   to_upload (2).ipynb\n",
            "Exported DataFrame sheet.gsheet    to_upload (3).ipynb\n",
            "foo.txt\t\t\t\t   to_upload.ipynb\n",
            "Pickle + Drive FUSE example.ipynb  variables.pickle\n",
            "Sample Excel file.gsheet\n"
          ],
          "name": "stdout"
        }
      ]
    },
    {
      "cell_type": "markdown",
      "metadata": {
        "id": "UADu4vFNkjX1"
      },
      "source": [
        "You can also use the file browser in the sidebar to browse Drive files. \n",
        "![](https://i.stack.imgur.com/TxnUX.png)"
      ]
    }
  ]
}